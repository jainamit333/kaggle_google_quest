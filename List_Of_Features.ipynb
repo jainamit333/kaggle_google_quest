{
 "cells": [
  {
   "cell_type": "markdown",
   "metadata": {},
   "source": [
    "#### List of computed features\n",
    "- Length of question title, question body and answer. (3)\n",
    "- Difference in length of question title and question body. (1)\n",
    "- Cosine similarity between title, body and answer.(3)\n",
    "- Number of question marks in the title and body and answer. (2)\n",
    "- Is title, body or answer have spelling mistake.(3)\n",
    "- Is title, body or answer is gramatically correct.(3)\n",
    "- Number of puntuations in title, body and answer. (3)\n",
    "- Number of spelling mistakes in title, body and answer\n",
    "- Number of gramatical mistakes in title, body and answer.\n",
    "- Clustering of title and assign it to topic/category.\n",
    "- Speach tagging in title. (to identify subject present in title or not)\n",
    "- sentiment of answer.\n",
    "- title and body have different question.\n",
    "- Does body have more than one question."
   ]
  },
  {
   "cell_type": "code",
   "execution_count": null,
   "metadata": {},
   "outputs": [],
   "source": []
  }
 ],
 "metadata": {
  "kernelspec": {
   "display_name": "Python 3",
   "language": "python",
   "name": "python3"
  },
  "language_info": {
   "codemirror_mode": {
    "name": "ipython",
    "version": 3
   },
   "file_extension": ".py",
   "mimetype": "text/x-python",
   "name": "python",
   "nbconvert_exporter": "python",
   "pygments_lexer": "ipython3",
   "version": "3.7.5"
  }
 },
 "nbformat": 4,
 "nbformat_minor": 2
}
